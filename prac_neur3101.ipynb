{
 "cells": [
  {
   "cell_type": "markdown",
   "metadata": {},
   "source": [
    "<div style=\"color:blue; font-size: 24px; text-align:left\"><strong>Step 1: load the program!</strong></div>"
   ]
  },
  {
   "cell_type": "code",
   "execution_count": null,
   "metadata": {},
   "outputs": [],
   "source": [
    "from prac_neur3101 import *\n",
    "dt = 0.05 # sampling/integration interval"
   ]
  },
  {
   "cell_type": "markdown",
   "metadata": {},
   "source": [
    "# Part I: From spiking neurons to central pattern generators\n",
    "\n",
    "[1] Morris C and Lecar H, \"Voltage oscillations in the barnacle giant muscle fiber\". Biophys. J. 35, 193--213 (1981)\n",
    "\n",
    "\n",
    "## Theory\n",
    "The original Morris-Lecar model aimed at reproducing action potentials and excitability patterns observed experimentally in the giant muscle fiber of the barnacle (*balanus nubilus*).  \n",
    "The model contains Ca<sup>2+</sup>, K<sup>+</sup> and leak currents. The depolarization component of the Morris-Lecar action potential is mediated by a Ca<sup>2+</sup> current. The other standard model of action potentials is the Hodgkin-Huxley model and contains Na<sup>+</sup> and K<sup>+</sup> currents, using experimentally derived Na<sup>+</sup> and K<sup>+</sup> channel activation and inactivation gate dynamics as a function of voltage. \n",
    "\n",
    "The Morris-Lecar model is based on this scheme of the membrane as a circuit:\n",
    "\n",
    "<img src=\"img/ML_circuit.png\" width=350>\n",
    "\n",
    "The Morris-Lecar model contains two variables:\n",
    "1. $V$: is the potential difference (voltage) across the membrane, its change depends on the membrane capacitance $C$ and three currents:  \n",
    "    a) Ca<sup>2+</sup> current: $-g_{Ca} \\: m_{\\infty}(V) \\: (V-V_{Ca})$, where $m_{\\infty}(V)$ is the steady-state fraction of open Ca<sup>2+</sup> channels at voltage $V$  \n",
    "    b) K<sup>+</sup> current: $-g_{K} w (V-V_{K})$, which depends on the second variable $w$ (fraction of open K<sup>+</sup> channels)  \n",
    "    c) leak current: $-g_{L} (V-V_{L})$  \n",
    "    d) an external current (controlled by the experimenter): $I(t)$  \n",
    "2. $w$: is the fraction of open K<sup>+</sup> channels ($w \\in [0,1]$) at a given voltage $V$  \n",
    "\n",
    "Actually, both variables $V$ and $w$ vary over time and should be written $V(t)$ and $w(t)$. The dynamical behaviour of the system is represented by two coupled ordinary differential equations (ODEs):\n",
    "\n",
    "$$\n",
    "C \\: \\frac{dV}{dt} = -g_{Ca} \\: m_{\\infty}(V) \\: (V-V_{Ca}) -g_{K} w (V-V_{K}) -g_{L} (V-V_{L}) + I(t) \\\\\n",
    "\\frac{dw}{dt} = \\lambda_w(V) \\: \\left( w_{\\infty}(V)-w \\right) \n",
    "$$\n",
    "\n",
    "and the auxiliary functions $m_{\\infty}(V) = \\frac{1}{2} \\left( 1 + \\tanh \\left( \\frac{V-V_1}{V_2} \\right) \\right)$, $w_{\\infty}(V) = \\frac{1}{2} \\left( 1 + \\tanh \\left( \\frac{V-V_3}{V_4} \\right) \\right)$, and $\\lambda_w(V) = \\phi \\: \\cosh \\left( \\frac{V-V_3}{2 V_4} \\right)$, where:\n",
    "\n",
    "- $m_{\\infty}(V)$ is the steady-state fraction of open Ca<sup>2+</sup> channels at voltage $V$  \n",
    "- $w_{\\infty}(V)$ is the steady-state fraction of open K<sup>+</sup> channels at voltage $V$\n",
    "- $\\lambda_w(V)$ is the rate at which $w$ approaches its equilibrium value $w_{\\infty}(V)$ at voltage $V$\n"
   ]
  },
  {
   "cell_type": "markdown",
   "metadata": {},
   "source": [
    "## Experiment 1: neuronal response to short current pulses"
   ]
  },
  {
   "cell_type": "markdown",
   "metadata": {},
   "source": [
    "### a) Depolarizing currents\n",
    "\n",
    "In this experiment, experiment with depolarizing currents of different amplitudes and durations."
   ]
  },
  {
   "cell_type": "markdown",
   "metadata": {},
   "source": [
    "<div style=\"color:blue; font-size: 24px; text-align:left\"><strong>Set your input current and duration:</strong></div>"
   ]
  },
  {
   "cell_type": "markdown",
   "metadata": {},
   "source": [
    "- Input current: `I0`\n",
    "- Current start, stop: `t_on`, `t_off`"
   ]
  },
  {
   "cell_type": "code",
   "execution_count": null,
   "metadata": {},
   "outputs": [],
   "source": [
    "I0 = 150  # input current [µA/cm^2]\n",
    "t_on = 50  # current start time [ms]\n",
    "t_off = 70  # current end time [ms]\n",
    "print(f\"Stimulation current [{t_on:.1f}-{t_off:.1f} ms]: {I0:.2f} µA/cm2\")"
   ]
  },
  {
   "cell_type": "markdown",
   "metadata": {},
   "source": [
    "Run the model:"
   ]
  },
  {
   "cell_type": "code",
   "execution_count": null,
   "metadata": {},
   "outputs": [],
   "source": [
    "T = 500  # total simulation time [ms]\n",
    "i_on, i_off = int(t_on/dt), int(t_off/dt)\n",
    "I_ext = np.zeros(int(T/dt))\n",
    "I_ext[i_on:i_off] = I0\n",
    "params = {'T': T, 'dt': dt, 'sd': 0.05, 'I_ext': I_ext, 'doplot': True}\n",
    "X, Y = ml1(**params)\n",
    "print(f\"Max voltage: V = {X.max():.2f} mV\")"
   ]
  },
  {
   "cell_type": "markdown",
   "metadata": {},
   "source": [
    "### b) Hyperpolarizing currents\n",
    "\n",
    "Try different hyperpolarizing currents and check if you can produce *anodal break*.\n",
    "\n",
    "**Explanation:**  \n",
    "Compare with the Hodgkin-Huxley model. What role does the Na+ channel inactivation gate play?"
   ]
  },
  {
   "cell_type": "markdown",
   "metadata": {},
   "source": [
    "<div style=\"color:blue; font-size: 24px; text-align:left\"><strong>Set your input current and duration:</strong></div>"
   ]
  },
  {
   "cell_type": "code",
   "execution_count": null,
   "metadata": {},
   "outputs": [],
   "source": [
    "I0 = 80  # sub-threshold current [µA/cm^2]\n",
    "I1 = 10  # reduced current [µA/cm^2] \n",
    "t_on = 200  # reduced current start [ms]\n",
    "t_off = 300  # reduced current stop [ms]"
   ]
  },
  {
   "cell_type": "markdown",
   "metadata": {},
   "source": [
    "Run the model:"
   ]
  },
  {
   "cell_type": "code",
   "execution_count": null,
   "metadata": {},
   "outputs": [],
   "source": [
    "T = 1000  # total simulation time [ms]\n",
    "i_on, i_off = int(t_on/dt), int(t_off/dt)\n",
    "I_ext = I0*np.ones(int(T/dt))\n",
    "I_ext[i_on:i_off] = I1\n",
    "params = {'T': T, 'dt': dt, 'sd': 0.05, 'v0': -40, 'w0': 0.1, 'I_ext': I_ext, 'doplot': True}\n",
    "X, Y = ml1(**params)"
   ]
  },
  {
   "cell_type": "markdown",
   "metadata": {},
   "source": [
    "**Questions:**  \n",
    "Answer the questions in your practical protocol."
   ]
  },
  {
   "cell_type": "markdown",
   "metadata": {},
   "source": [
    "### c) Double current pulses\n",
    "\n",
    "Try different inter-stimulus intervals to observe refractory behaviour."
   ]
  },
  {
   "cell_type": "markdown",
   "metadata": {},
   "source": [
    "<div style=\"color:blue; font-size: 24px; text-align:left\"><strong>Set your input current and duration:</strong></div>"
   ]
  },
  {
   "cell_type": "code",
   "execution_count": null,
   "metadata": {},
   "outputs": [],
   "source": [
    "I0 = 150  # current amplitude of first pulse [µA/cm^2]\n",
    "I1 = 150  # current amplitude of second pulse [µA/cm^2]\n",
    "t_on_0, t_off_0 = 20, 30  # first pulse start/stop time [ms]\n",
    "t_on_1, t_off_1 = 82, 92  # second pulse start/stop time [ms]"
   ]
  },
  {
   "cell_type": "markdown",
   "metadata": {},
   "source": [
    "Run the model:"
   ]
  },
  {
   "cell_type": "code",
   "execution_count": null,
   "metadata": {},
   "outputs": [],
   "source": [
    "T = 500  # total simulation time [ms]\n",
    "i_on_0, i_off_0 = int(t_on_0/dt), int(t_off_0/dt)\n",
    "i_on_1, i_off_1 = int(t_on_1/dt), int(t_off_1/dt)\n",
    "I_ext = np.zeros(int(T/dt))\n",
    "I_ext[i_on_0:i_off_0] = I0\n",
    "I_ext[i_on_1:i_off_1] = I1\n",
    "params = {'T': T, 'dt': dt, 'sd': 0.05, 'I_ext': I_ext, 'doplot': True}\n",
    "X, Y = ml1(**params)"
   ]
  },
  {
   "cell_type": "markdown",
   "metadata": {},
   "source": [
    "## Experiment 2: neuronal response to continuous currents\n",
    "\n",
    "This experiment illustrates the prediction derived above, for a constant current $I(t)=50$.  \n",
    "``` python\n",
    "T = 500\n",
    "I_ext = 50*np.ones(int(T/dt))\n",
    "params = {'T': T, 'dt': dt, 'sd': 0.05, 'I_ext': I_ext, 'v0': 40, 'w0': 0.5, 'doplot': True}\n",
    "X, Y = ml1(**params)\n",
    "```\n",
    "\n",
    "Set your input current:"
   ]
  },
  {
   "cell_type": "markdown",
   "metadata": {},
   "source": [
    "### a) Constant currents"
   ]
  },
  {
   "cell_type": "markdown",
   "metadata": {},
   "source": [
    "<div style=\"color:blue; font-size: 24px; text-align:left\"><strong>Set your input current:</strong></div>"
   ]
  },
  {
   "cell_type": "code",
   "execution_count": null,
   "metadata": {},
   "outputs": [],
   "source": [
    "I0 = 120.0  # stimulation current [µA/cm^2]"
   ]
  },
  {
   "cell_type": "markdown",
   "metadata": {},
   "source": [
    "Run the model:"
   ]
  },
  {
   "cell_type": "code",
   "execution_count": null,
   "metadata": {},
   "outputs": [],
   "source": [
    "T = 500  # total simulation time [ms]\n",
    "I_ext = I0*np.ones(int(T/dt))\n",
    "params = {'T': T, 'dt': dt, 'sd': 0.05, 'I_ext': I_ext, 'v0': 10, 'w0': 0.2, 'doplot': True}\n",
    "X, Y = ml1(**params)"
   ]
  },
  {
   "cell_type": "markdown",
   "metadata": {},
   "source": [
    "### b) Current ramps\n",
    "\n",
    "Onset of oscillations.\n",
    "\n",
    "``` python\n",
    "T = 1000\n",
    "I_ext = np.linspace(90, 120, int(T/dt))\n",
    "params = {'T': T, 'dt': dt, 'sd': 0.1, 'I_ext': I_ext, 'v0':-20, 'w0':0.13, 'doplot': True}\n",
    "X, Y = ml1(**params)\n",
    "```"
   ]
  },
  {
   "cell_type": "markdown",
   "metadata": {},
   "source": [
    "<div style=\"color:blue; font-size: 24px; text-align:left\"><strong>Set your start and end input current values:</strong></div>"
   ]
  },
  {
   "cell_type": "markdown",
   "metadata": {},
   "source": [
    "- `I_start`: start current\n",
    "- `I_end`: end current\n",
    "\n",
    "The stimulation current will increase linearly (ramp) from the start to the end value."
   ]
  },
  {
   "cell_type": "code",
   "execution_count": null,
   "metadata": {},
   "outputs": [],
   "source": [
    "I_start = 90  # current ramp start value [µA/cm^2]\n",
    "I_end = 120  # current ramp end value [µA/cm^2]"
   ]
  },
  {
   "cell_type": "markdown",
   "metadata": {},
   "source": [
    "Run the model:"
   ]
  },
  {
   "cell_type": "code",
   "execution_count": null,
   "metadata": {},
   "outputs": [],
   "source": [
    "T = 1000  # total simulation time [ms]\n",
    "I_ext = np.linspace(I_start, I_end, int(T/dt))\n",
    "params = {'T': T, 'dt': dt, 'sd': 0.1, 'I_ext': I_ext, 'v0':-20, 'w0':0.13, 'doplot': True}\n",
    "X, Y = ml1(**params)"
   ]
  },
  {
   "cell_type": "markdown",
   "metadata": {},
   "source": [
    "*Question:* What did you observe?  \n",
    "*Answer:* a bifurcation, more specifically, two bifurcations\n",
    "\n",
    "<!-- <img src=\"img/bifurcation_diagram.png\" width=800> -->\n",
    "\n",
    "**Summary:**\n",
    "1. excitable system, threshold and non-linear (AP) behaviour\n",
    "2. continuous current injection can cause oscillations of the membrane potential (Hopf bifurcation)"
   ]
  },
  {
   "cell_type": "markdown",
   "metadata": {},
   "source": [
    "## Experiment 3: Two coupled neurons\n",
    "\n",
    "Now that we have a basic understanding of what the model is capable of, let's turn to the smallest possible network: 2 coupled Morris-Lecar neurons.\n",
    "\n",
    "### Excitatory coupling\n",
    "\n",
    "Two neurons are connected to each other, and each neuron has an *excitatory* effect on the other.  \n",
    "<img src=\"img/coupling_pos.png\" width=300>\n",
    "\n",
    "### Inhibitory coupling\n",
    "\n",
    "Two neurons are connected to each other, but their effect is mediated by *inhibitory* interneurons (small gray circles). For example, when neuron 1 fires, it activates the interneuron, and the interneurons inhibits neuron 2. Vice versa, activation of neuron 2 inhibits neuron 1, as mediated by the other inhibitory interneuron.\n",
    "<img src=\"img/coupling_neg.png\" width=300>"
   ]
  },
  {
   "cell_type": "markdown",
   "metadata": {},
   "source": [
    "### Mutually excitatory coupling: in-phase spiking\n",
    "\n",
    "``` python\n",
    "dt = 0.05\n",
    "X0, Y0, X1, Y1 = ml2(T=1000, dt=dt, sd=0.1, I0=90, I1=120, coupling='mode-B')\n",
    "```"
   ]
  },
  {
   "cell_type": "markdown",
   "metadata": {},
   "source": [
    "<div style=\"color:blue; font-size: 24px; text-align:left\"><strong>Set your start and end input current values:</strong></div>"
   ]
  },
  {
   "cell_type": "markdown",
   "metadata": {},
   "source": [
    "- `I_start`: start current\n",
    "- `I_end`: end current\n",
    "\n",
    "The stimulation current will increase linearly (ramp) from the start to the end value."
   ]
  },
  {
   "cell_type": "code",
   "execution_count": null,
   "metadata": {},
   "outputs": [],
   "source": [
    "I_start = 90  # current ramp start value [µA/cm^2]\n",
    "I_end = 120  # current ramp end value [µA/cm^2]"
   ]
  },
  {
   "cell_type": "markdown",
   "metadata": {},
   "source": [
    "Run the model:"
   ]
  },
  {
   "cell_type": "code",
   "execution_count": null,
   "metadata": {},
   "outputs": [],
   "source": [
    "T = 1000  # total simulation time [ms]\n",
    "I_ext = np.linspace(I_start, I_end, int(T/dt))\n",
    "X0, Y0, X1, Y1 = ml2(T=T, dt=dt, n0=2000, sd=0.1, I_ext=I_ext, coupling='mode-A', doplot=True)"
   ]
  },
  {
   "cell_type": "markdown",
   "metadata": {},
   "source": [
    "### Cross-correlation"
   ]
  },
  {
   "cell_type": "code",
   "execution_count": null,
   "metadata": {},
   "outputs": [],
   "source": [
    "lags, cc = ccov(X0, X1, lmax=2500)\n",
    "plt.figure(figsize=(8,4))\n",
    "plt.plot(dt*lags, cc, '-k')\n",
    "plt.xlabel(\"time\")\n",
    "plt.ylabel(\"cross-cor.\")\n",
    "plt.grid()\n",
    "plt.show()"
   ]
  },
  {
   "cell_type": "markdown",
   "metadata": {},
   "source": [
    "### Mutually inhibitory coupling: out-of-phase spiking\n",
    "\n",
    "``` python\n",
    "X0, Y0, X1, Y1 = ml2(T=1000, dt=dt, sd=0.1, I0=90, I1=120, coupling='mode-A')\n",
    "```"
   ]
  },
  {
   "cell_type": "markdown",
   "metadata": {},
   "source": [
    "<div style=\"color:blue; font-size: 24px; text-align:left\"><strong>Set your start and end input current values:</strong></div>"
   ]
  },
  {
   "cell_type": "markdown",
   "metadata": {},
   "source": [
    "- `I_start`: start current\n",
    "- `I_end`: end current\n",
    "\n",
    "The stimulation current will increase linearly (ramp) from the start to the end value."
   ]
  },
  {
   "cell_type": "code",
   "execution_count": null,
   "metadata": {},
   "outputs": [],
   "source": [
    "I_start = 90  # current ramp start value [µA/cm^2]\n",
    "I_end = 120  # current ramp end value [µA/cm^2]"
   ]
  },
  {
   "cell_type": "markdown",
   "metadata": {},
   "source": [
    "Run the model:"
   ]
  },
  {
   "cell_type": "code",
   "execution_count": null,
   "metadata": {},
   "outputs": [],
   "source": [
    "T = 700  # total simulation time [ms]\n",
    "I_ext = np.linspace(I0, I1, int(T/dt))\n",
    "X0, Y0, X1, Y1 = ml2(T=T, dt=dt, n0=2000, sd=0.1, I_ext=I_ext, coupling='mode-C', doplot=True)"
   ]
  },
  {
   "cell_type": "markdown",
   "metadata": {},
   "source": [
    "### Cross-correlation"
   ]
  },
  {
   "cell_type": "code",
   "execution_count": null,
   "metadata": {},
   "outputs": [],
   "source": [
    "lags, cc = ccov(X0, X1, lmax=2500)\n",
    "plt.figure(figsize=(8,4))\n",
    "plt.plot(dt*lags, cc, '-k')\n",
    "plt.xlabel(\"time\")\n",
    "plt.ylabel(\"cross-cor.\")\n",
    "plt.grid()\n",
    "plt.show()"
   ]
  },
  {
   "cell_type": "markdown",
   "metadata": {},
   "source": [
    "## Experiment 4: a Central Pattern Generator (CPG) with only 8 neurons\n",
    "\n",
    "Computational model of a Central Pattern Generator (CPG) using 8 coupled neurons based on the Morris-Lecar model. This model has been developed and analyzed in depth in these publications:\n",
    "\n",
    "[1] Buono L and Golubitsky M, \"Models of central pattern generators for quadruped locomotion I. Primary Gaits\". J. Math. Biol. 42, 291--326 (2001)  \n",
    "[2] Buono L and Golubitsky M, \"Models of central pattern generators for quadruped locomotion II. Secondary Gaits\". J. Math. Biol. 42, 327--346 (2001)  \n",
    "\n",
    "This model contains 8 model neurons, mutually coupled as shown in this scheme:\n",
    "\n",
    "<img src=\"img/Buono_connectivity.png\" width=300>\n",
    "\n",
    "Each of the 8 cells runs the Morris-Lecar membrane model we have studied above.\n",
    "\n",
    "To obtain the full range of quadruped (four-legged) gait patterns, they needed a minimum of 2 cells per limb, hence the 8-cell model. To derive the correct coupling parameters for the different gaits requires a robust knowledge of differential equations and group theory, therefore we cannot re-derive these in the limited space of this notebook.\n"
   ]
  },
  {
   "cell_type": "markdown",
   "metadata": {},
   "source": [
    "<div style=\"color:blue; font-size: 24px; text-align:left\"><strong>Select the model: </strong></div>"
   ]
  },
  {
   "cell_type": "code",
   "execution_count": null,
   "metadata": {},
   "outputs": [],
   "source": [
    "model = \"A\"\n",
    "print(f\"Selected model: {model:s}\")"
   ]
  },
  {
   "cell_type": "markdown",
   "metadata": {},
   "source": [
    "Run the model:"
   ]
  },
  {
   "cell_type": "code",
   "execution_count": null,
   "metadata": {
    "scrolled": false
   },
   "outputs": [],
   "source": [
    "data = ml8(T=150, dt=0.01, n0=3000, mode=model, doplot=True, doanimate=False)"
   ]
  },
  {
   "cell_type": "markdown",
   "metadata": {},
   "source": [
    "Watch some animations:\n",
    "\n",
    "### Mode-1:\n",
    "<p align=\"center\">\n",
    "<video src=\"./mov/cpg_mode-1.mp4\" width=\"256\" height=\"256\" controls loop preload></video>\n",
    "</p>\n",
    "\n",
    "### Mode-2\n",
    "<p align=\"center\">\n",
    "<video src=\"./mov/cpg_mode-2.mp4\" width=\"256\" height=\"256\" controls loop preload></video>\n",
    "</p>\n",
    "\n",
    "### Mode-3\n",
    "<p align=\"center\">\n",
    "<video src=\"./mov/cpg_mode-3.mp4\" width=\"256\" height=\"256\" controls loop preload></video>\n",
    "</p>\n",
    "\n",
    "### Mode-4\n",
    "<p align=\"center\">\n",
    "<video src=\"./mov/cpg_mode-4.mp4\" width=\"256\" height=\"256\" controls loop preload></video>\n",
    "</p>\n",
    "\n",
    "### Mode-5\n",
    "<p align=\"center\">\n",
    "<video src=\"./mov/cpg_mode-5.mp4\" width=\"256\" height=\"256\" controls loop preload></video>\n",
    "</p>\n",
    "\n",
    "### Mode-6\n",
    "<p align=\"center\">\n",
    "<video src=\"./mov/cpg_mode-6.mp4\" width=\"256\" height=\"256\" controls loop preload></video>\n",
    "</p>"
   ]
  },
  {
   "cell_type": "markdown",
   "metadata": {},
   "source": [
    "# Part II: Understanding population vector coding"
   ]
  },
  {
   "cell_type": "markdown",
   "metadata": {},
   "source": [
    "### Raster plots\n",
    "\n",
    "In neuroscience experiments, the activity of spiking neurons is often reduced to the times when action potentials are fired, ignoring the voltage fluctuations between the action potentials. The resulting plots are called **_raster plots_**. Their relation is best explained visually:\n",
    "\n",
    "<img src=\"img/raster_plot.png\" width=1000>\n",
    "\n",
    "<!--\n",
    "The responses from experiments:\n",
    "\n",
    "<img src=\"img/popvector_response_linear.png\" width=1000>\n",
    "\n",
    "The results could as well be drawn in a circular plot:\n",
    "\n",
    "<img src=\"img/popvector_response_circular.png\" width=500>\n",
    "-->"
   ]
  },
  {
   "cell_type": "markdown",
   "metadata": {},
   "source": [
    "### Task:\n",
    "We will no try to interpret (synthetic) raster plots in order to reconstruct the grasping direction in a virtual experiment."
   ]
  },
  {
   "cell_type": "code",
   "execution_count": null,
   "metadata": {
    "scrolled": false
   },
   "outputs": [],
   "source": [
    "from prac_neur3101 import *\n",
    "raster_plot()"
   ]
  },
  {
   "cell_type": "markdown",
   "metadata": {},
   "source": [
    "<div style=\"color:blue; font-size: 24px; text-align:left\"><strong>Input your average spike rates: </strong></div>"
   ]
  },
  {
   "cell_type": "code",
   "execution_count": null,
   "metadata": {},
   "outputs": [],
   "source": [
    "spike_rate1 = 17.40\n",
    "spike_rate2 = 26.20\n",
    "spike_rate3 = 27.80\n",
    "spike_rate4 = 15.40\n",
    "spike_rate5 = 9.20\n",
    "spike_rate6 = 6.00\n",
    "spike_rate7 = 7.80\n",
    "spike_rate8 = 12.20"
   ]
  },
  {
   "cell_type": "markdown",
   "metadata": {},
   "source": [
    "Reconstruct the vector:"
   ]
  },
  {
   "cell_type": "code",
   "execution_count": null,
   "metadata": {},
   "outputs": [],
   "source": [
    "spike_rates = [spike_rate1, spike_rate2, spike_rate3, spike_rate4, spike_rate5, spike_rate6, \\\n",
    "               spike_rate7, spike_rate8]\n",
    "N = 8\n",
    "phi = 2*np.pi*np.arange(N)/N\n",
    "vs = np.zeros((N,2))\n",
    "for i in range(N):\n",
    "    vs[i] = [spike_rates[i]*np.cos(phi[i]), spike_rates[i]*np.sin(phi[i])]\n",
    "vr = np.mean(vs,axis=0)\n",
    "phi_hat = np.arctan2(vr[1],vr[0])\n",
    "print(\"phi_hat: \", phi_hat, phi_hat/(2*np.pi)*360)\n",
    "\n",
    "# Figure\n",
    "plt.figure(figsize=(8,8))\n",
    "plt.plot([0,vr[0]], [0,vr[1]], '-b', lw=5, alpha=1.0, label=\"reconstruction\")\n",
    "d = 0.5\n",
    "for i in range(N):\n",
    "    plt.plot([0,vs[i,0]], [0,vs[i,1]], '-k', lw=2, alpha=0.5)\n",
    "    plt.annotate(f\"N{i+1:d} resp.\", xy=(vs[i,0]+d, vs[i,1]+d), xycoords=\"data\", c=\"k\", fontsize=18)\n",
    "plt.grid(True)\n",
    "plt.legend(loc=2, fontsize=16)\n",
    "plt.gca().set_aspect('equal', adjustable='box')\n",
    "plt.show()"
   ]
  }
 ],
 "metadata": {
  "kernelspec": {
   "display_name": "Python 3",
   "language": "python",
   "name": "python3"
  },
  "language_info": {
   "codemirror_mode": {
    "name": "ipython",
    "version": 3
   },
   "file_extension": ".py",
   "mimetype": "text/x-python",
   "name": "python",
   "nbconvert_exporter": "python",
   "pygments_lexer": "ipython3",
   "version": "3.6.9"
  },
  "varInspector": {
   "cols": {
    "lenName": 16,
    "lenType": 16,
    "lenVar": 40
   },
   "kernels_config": {
    "python": {
     "delete_cmd_postfix": "",
     "delete_cmd_prefix": "del ",
     "library": "var_list.py",
     "varRefreshCmd": "print(var_dic_list())"
    },
    "r": {
     "delete_cmd_postfix": ") ",
     "delete_cmd_prefix": "rm(",
     "library": "var_list.r",
     "varRefreshCmd": "cat(var_dic_list()) "
    }
   },
   "types_to_exclude": [
    "module",
    "function",
    "builtin_function_or_method",
    "instance",
    "_Feature"
   ],
   "window_display": false
  }
 },
 "nbformat": 4,
 "nbformat_minor": 4
}
